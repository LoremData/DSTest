{
 "cells": [
  {
   "cell_type": "code",
   "execution_count": 1,
   "metadata": {},
   "outputs": [
    {
     "name": "stdout",
     "output_type": "stream",
     "text": [
      "Collecting Faker\n",
      "  Downloading Faker-0.8.7-py2.py3-none-any.whl (691kB)\n",
      "\u001b[K    100% |################################| 696kB 1.6MB/s ta 0:00:01\n",
      "\u001b[?25hRequirement already satisfied: python-dateutil>=2.4 in /usr/local/lib/python2.7/dist-packages (from Faker)\n",
      "Requirement already satisfied: six in /usr/local/lib/python2.7/dist-packages (from Faker)\n",
      "Collecting ipaddress; python_version == \"2.7\" (from Faker)\n",
      "  Downloading ipaddress-1.0.18-py2-none-any.whl\n",
      "Collecting text-unidecode (from Faker)\n",
      "  Downloading text_unidecode-1.1-py2.py3-none-any.whl (77kB)\n",
      "\u001b[K    100% |################################| 81kB 5.3MB/s ta 0:00:011\n",
      "\u001b[?25hInstalling collected packages: ipaddress, text-unidecode, Faker\n",
      "Successfully installed Faker-0.8.7 ipaddress-1.0.18 text-unidecode-1.1\n"
     ]
    }
   ],
   "source": [
    "# !pip install Faker"
   ]
  },
  {
   "cell_type": "code",
   "execution_count": 4,
   "metadata": {},
   "outputs": [
    {
     "name": "stdout",
     "output_type": "stream",
     "text": [
      "Brian Miller\n",
      "588 Martinez Village Suite 171\n",
      "Salinasmouth, MS 99071-2345\n",
      "Est voluptas porro quos quaerat corrupti facilis ad. Sequi qui aut ipsum magnam.\n"
     ]
    }
   ],
   "source": [
    "from faker import Faker\n",
    "# fake = Faker()\n",
    "\n",
    "# print(fake.name())\n",
    "# print(fake.address())\n",
    "# print(fake.text())"
   ]
  },
  {
   "cell_type": "code",
   "execution_count": 5,
   "metadata": {},
   "outputs": [
    {
     "name": "stdout",
     "output_type": "stream",
     "text": [
      "Robin Klausen\n",
      "Ole Nørgaard\n",
      "Univ.Prof. Nanni Sørensen\n",
      "Øjvind Johansen\n",
      "Asger Henriksen\n",
      "Dr. Beth Schultz\n",
      "Randi Jensen\n",
      "Univ.Prof. Nils Østergaard\n",
      "Beth Mathiesen\n",
      "Karsten Søndergaard-Christensen\n"
     ]
    }
   ],
   "source": [
    "fake = Faker('dk_DK')\n",
    "for _ in range(10):\n",
    "    print(fake.name())"
   ]
  },
  {
   "cell_type": "code",
   "execution_count": 1,
   "metadata": {},
   "outputs": [],
   "source": [
    "def RandomNames(number, country):\n",
    "    fake = Faker(country)\n",
    "    for i in range(number):\n",
    "        return(fake.name())"
   ]
  },
  {
   "cell_type": "code",
   "execution_count": null,
   "metadata": {},
   "outputs": [],
   "source": []
  }
 ],
 "metadata": {
  "kernelspec": {
   "display_name": "Python 2",
   "language": "python",
   "name": "python2"
  },
  "language_info": {
   "codemirror_mode": {
    "name": "ipython",
    "version": 2
   },
   "file_extension": ".py",
   "mimetype": "text/x-python",
   "name": "python",
   "nbconvert_exporter": "python",
   "pygments_lexer": "ipython2",
   "version": "2.7.9"
  }
 },
 "nbformat": 4,
 "nbformat_minor": 2
}
